{
 "cells": [
  {
   "cell_type": "code",
   "execution_count": 1,
   "id": "c10c27fb",
   "metadata": {},
   "outputs": [],
   "source": [
    "import numpy as np"
   ]
  },
  {
   "cell_type": "code",
   "execution_count": 2,
   "id": "35371723",
   "metadata": {},
   "outputs": [],
   "source": [
    "# Example\n",
    "# Input RNA sequence\n",
    "s = 'CGGAUACUUCUUAGACGA'\n",
    "n = len(s)\n",
    "\n",
    "# Weights of complimentary pairs\n",
    "w = {'CG': 3,\n",
    "     'GC': 3,\n",
    "     'AU': 2,\n",
    "     'UA': 2,\n",
    "     'GU': 1,\n",
    "     'UG': 1}\n",
    "\n",
    "# Distance parameter\n",
    "D = 3"
   ]
  },
  {
   "cell_type": "code",
   "execution_count": 3,
   "id": "13e8bc4d",
   "metadata": {},
   "outputs": [],
   "source": [
    "# Matrix for storing weights of subsequences\n",
    "M = np.full((n,n), 0, dtype=int)"
   ]
  },
  {
   "cell_type": "code",
   "execution_count": 4,
   "id": "e7d07c13",
   "metadata": {},
   "outputs": [],
   "source": [
    "# Set the weights of non valid pairs to 0\n",
    "# Non valid pairs are those that are closer then D\n",
    "# or not complimentary\n",
    "def calcG(i, j, s, w):    \n",
    "    deltaG = 0\n",
    "    if abs(i - j) < D + 1:\n",
    "        return 0\n",
    "    elif s[i]+s[j] not in w:\n",
    "        return 0\n",
    "    else: deltaG = w[s[i]+s[j]]\n",
    "    return deltaG\n",
    "\n",
    "# Recursion to fill in the matrix of subsequences weights\n",
    "def calcM(i, j, s, w):    \n",
    "    if i > j:\n",
    "        return 0\n",
    "    else:\n",
    "        # if nt i is left unpaired\n",
    "        maxM = calcM(i+1, j, s, w)\n",
    "        # if nt i is paired\n",
    "        for k in range(i+D+1, j+1):            \n",
    "            currM = calcG(i, k, s, w) + calcM(i+1, k-1, s, w) + calcM(k+1, j, s, w)\n",
    "#             print(f'{currM} = {calcG(i, k, s, w)} + {calcM(i+1, k-1, s, w)} + {calcM(k+1, j, s, w)}')           \n",
    "            if currM > maxM:\n",
    "                maxM = currM\n",
    "                \n",
    "    return maxM"
   ]
  },
  {
   "cell_type": "code",
   "execution_count": 5,
   "id": "f15f0fab",
   "metadata": {},
   "outputs": [],
   "source": [
    "for i in range(n, -1, -1):\n",
    "    for j in range(i+D+1, n):\n",
    "        M[i,j] = calcM(i, j, s, w) "
   ]
  },
  {
   "cell_type": "code",
   "execution_count": 6,
   "id": "c8a9124f",
   "metadata": {},
   "outputs": [],
   "source": [
    "def printM(M):\n",
    "    print('\\n'.join(' '.join(str(x) for x in n) for n in M))"
   ]
  },
  {
   "cell_type": "code",
   "execution_count": 7,
   "id": "47c55f00",
   "metadata": {},
   "outputs": [
    {
     "name": "stdout",
     "output_type": "stream",
     "text": [
      "[[ 0  0  0  0  0  0  3  4  4  6  6  6  6  9  9 11 14 14]\n",
      " [ 0  0  0  0  0  0  3  4  4  6  6  6  6  7  9 11 11 11]\n",
      " [ 0  0  0  0  0  0  3  3  3  5  5  5  5  6  8 10 10 10]\n",
      " [ 0  0  0  0  0  0  0  2  2  2  2  4  4  5  7  7  8 10]\n",
      " [ 0  0  0  0  0  0  0  0  0  0  2  2  4  5  7  7  8 10]\n",
      " [ 0  0  0  0  0  0  0  0  0  0  2  2  2  5  5  5  8  8]\n",
      " [ 0  0  0  0  0  0  0  0  0  0  0  0  2  5  5  5  8  8]\n",
      " [ 0  0  0  0  0  0  0  0  0  0  0  0  2  3  5  5  6  7]\n",
      " [ 0  0  0  0  0  0  0  0  0  0  0  0  2  3  5  5  5  7]\n",
      " [ 0  0  0  0  0  0  0  0  0  0  0  0  0  3  3  3  5  5]\n",
      " [ 0  0  0  0  0  0  0  0  0  0  0  0  0  0  2  2  2  3]\n",
      " [ 0  0  0  0  0  0  0  0  0  0  0  0  0  0  0  0  1  2]\n",
      " [ 0  0  0  0  0  0  0  0  0  0  0  0  0  0  0  0  0  0]\n",
      " [ 0  0  0  0  0  0  0  0  0  0  0  0  0  0  0  0  0  0]\n",
      " [ 0  0  0  0  0  0  0  0  0  0  0  0  0  0  0  0  0  0]\n",
      " [ 0  0  0  0  0  0  0  0  0  0  0  0  0  0  0  0  0  0]\n",
      " [ 0  0  0  0  0  0  0  0  0  0  0  0  0  0  0  0  0  0]\n",
      " [ 0  0  0  0  0  0  0  0  0  0  0  0  0  0  0  0  0  0]]\n"
     ]
    }
   ],
   "source": [
    "print(M)"
   ]
  },
  {
   "cell_type": "code",
   "execution_count": 8,
   "id": "5164ee0f",
   "metadata": {},
   "outputs": [],
   "source": [
    "# Backtrack for constructing the structure in dot-bracket notation\n",
    "def backtrack(i, j, M, s, w):\n",
    "    struct = \"\"\n",
    "    struct1 = \"\"\n",
    "    struct2 = \"\"\n",
    "    if j - i <= D:\n",
    "        for k in range(j-i+1):\n",
    "            struct += \".\"\n",
    "        print(f'({i},{j}): case 0')\n",
    "        print(struct)\n",
    "        return struct\n",
    "    elif M[i,j] == M[i+1,j]:\n",
    "        struct = \".\" + backtrack(i+1,j,M,s,w)\n",
    "        print(f'({i},{j}): case A')\n",
    "        print(struct)\n",
    "        return struct\n",
    "    elif M[i,j] == M[i+1,j-1] + calcG(i, j, s, w):\n",
    "        struct = backtrack(i+1,j-1,M,s,w)\n",
    "        struct = \"(\" + struct + \")\"\n",
    "        print(f'({i},{j}): case B')\n",
    "        print(struct)\n",
    "        return struct \n",
    "    else:\n",
    "        print(f'({i},{j}): case C')        \n",
    "        for k in range(i+D+1,j):\n",
    "            if M[i,j] == M[i+1,k-1]+M[k+1,j]+calcG(i, k, s, w):\n",
    "                struct1 = backtrack(i+1,k-1,M,s,w)\n",
    "                struct2 = backtrack(k+1,j,M,s,w)\n",
    "                struct = \"(\" + struct1 + \")\" + struct2\n",
    "        print(struct)\n",
    "        return struct"
   ]
  },
  {
   "cell_type": "code",
   "execution_count": 9,
   "id": "340d6ec4",
   "metadata": {},
   "outputs": [
    {
     "name": "stdout",
     "output_type": "stream",
     "text": [
      "(0,17): case C\n",
      "(2,14): case C\n",
      "(3,5): case 0\n",
      "...\n",
      "(10,12): case 0\n",
      "...\n",
      "(9,13): case B\n",
      "(...)\n",
      "(8,14): case B\n",
      "((...))\n",
      "(7,14): case A\n",
      ".((...))\n",
      "(...).((...))\n",
      "(1,15): case B\n",
      "((...).((...)))\n",
      "(17,17): case 0\n",
      ".\n",
      "(((...).((...)))).\n"
     ]
    },
    {
     "data": {
      "text/plain": [
       "'(((...).((...)))).'"
      ]
     },
     "execution_count": 9,
     "metadata": {},
     "output_type": "execute_result"
    }
   ],
   "source": [
    "backtrack(0, 17, M, s, w)"
   ]
  }
 ],
 "metadata": {
  "kernelspec": {
   "display_name": "Python 3 (ipykernel)",
   "language": "python",
   "name": "python3"
  },
  "language_info": {
   "codemirror_mode": {
    "name": "ipython",
    "version": 3
   },
   "file_extension": ".py",
   "mimetype": "text/x-python",
   "name": "python",
   "nbconvert_exporter": "python",
   "pygments_lexer": "ipython3",
   "version": "3.10.9"
  }
 },
 "nbformat": 4,
 "nbformat_minor": 5
}
